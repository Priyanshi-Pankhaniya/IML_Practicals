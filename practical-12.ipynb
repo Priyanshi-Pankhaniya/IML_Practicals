{
 "cells": [
  {
   "cell_type": "code",
   "execution_count": 1,
   "id": "f6468979",
   "metadata": {
    "_cell_guid": "b1076dfc-b9ad-4769-8c92-a6c4dae69d19",
    "_uuid": "8f2839f25d086af736a60e9eeb907d3b93b6e0e5",
    "execution": {
     "iopub.execute_input": "2023-11-06T06:14:27.615044Z",
     "iopub.status.busy": "2023-11-06T06:14:27.614642Z",
     "iopub.status.idle": "2023-11-06T06:14:29.266574Z",
     "shell.execute_reply": "2023-11-06T06:14:29.265526Z"
    },
    "papermill": {
     "duration": 1.65895,
     "end_time": "2023-11-06T06:14:29.269620",
     "exception": false,
     "start_time": "2023-11-06T06:14:27.610670",
     "status": "completed"
    },
    "tags": []
   },
   "outputs": [
    {
     "name": "stdout",
     "output_type": "stream",
     "text": [
      "Keys:\n",
      "dict_keys(['data', 'target', 'frame', 'target_names', 'DESCR', 'feature_names', 'filename', 'data_module'])\n",
      "\n",
      "Number of Rows and Columns:\n",
      "(150, 4)\n",
      "\n",
      "Feature Names:\n",
      "['sepal length (cm)', 'sepal width (cm)', 'petal length (cm)', 'petal width (cm)']\n"
     ]
    }
   ],
   "source": [
    "'''\n",
    "Name: Priyanshi Pankhaniya\n",
    "Enroll No.: 216270307066\n",
    "Div: G\n",
    "Batch: G3\n",
    "'''\n",
    "\n",
    "import numpy as np # linear algebra\n",
    "import pandas as pd # data processing, CSV file I/O (e.g. pd.read_csv)\n",
    "\n",
    "# Import necessary libraries\n",
    "from sklearn import datasets\n",
    "\n",
    "# Load iris dataset\n",
    "data = datasets.load_iris()\n",
    "\n",
    "# Print the keys\n",
    "print(\"Keys:\")\n",
    "print(data.keys())      \n",
    "print(\"\\nNumber of Rows and Columns:\")\n",
    "print(data.data.shape)\n",
    "print(\"\\nFeature Names:\")\n",
    "print(data.feature_names)"
   ]
  },
  {
   "cell_type": "code",
   "execution_count": null,
   "id": "3b7d5c81",
   "metadata": {
    "papermill": {
     "duration": 0.003403,
     "end_time": "2023-11-06T06:14:29.275133",
     "exception": false,
     "start_time": "2023-11-06T06:14:29.271730",
     "status": "completed"
    },
    "tags": []
   },
   "outputs": [],
   "source": []
  }
 ],
 "metadata": {
  "kernelspec": {
   "display_name": "Python 3",
   "language": "python",
   "name": "python3"
  },
  "language_info": {
   "codemirror_mode": {
    "name": "ipython",
    "version": 3
   },
   "file_extension": ".py",
   "mimetype": "text/x-python",
   "name": "python",
   "nbconvert_exporter": "python",
   "pygments_lexer": "ipython3",
   "version": "3.10.12"
  },
  "papermill": {
   "default_parameters": {},
   "duration": 5.743108,
   "end_time": "2023-11-06T06:14:29.797282",
   "environment_variables": {},
   "exception": null,
   "input_path": "__notebook__.ipynb",
   "output_path": "__notebook__.ipynb",
   "parameters": {},
   "start_time": "2023-11-06T06:14:24.054174",
   "version": "2.4.0"
  }
 },
 "nbformat": 4,
 "nbformat_minor": 5
}
