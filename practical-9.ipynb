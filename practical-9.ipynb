{
 "cells": [
  {
   "cell_type": "code",
   "execution_count": 1,
   "id": "2821b202",
   "metadata": {
    "_cell_guid": "b1076dfc-b9ad-4769-8c92-a6c4dae69d19",
    "_uuid": "8f2839f25d086af736a60e9eeb907d3b93b6e0e5",
    "execution": {
     "iopub.execute_input": "2023-10-19T12:39:07.156619Z",
     "iopub.status.busy": "2023-10-19T12:39:07.156025Z",
     "iopub.status.idle": "2023-10-19T12:39:07.932880Z",
     "shell.execute_reply": "2023-10-19T12:39:07.931684Z"
    },
    "papermill": {
     "duration": 0.782992,
     "end_time": "2023-10-19T12:39:07.935134",
     "exception": false,
     "start_time": "2023-10-19T12:39:07.152142",
     "status": "completed"
    },
    "tags": []
   },
   "outputs": [
    {
     "data": {
      "image/png": "[encoded data removed]",
      "text/plain": [
       "<Figure size 640x480 with 1 Axes>"
      ]
     },
     "metadata": {},
     "output_type": "display_data"
    }
   ],
   "source": [
    "'''\n",
    "Enroll no.: 216270307066\n",
    "Name: Priyanshi Pankhaniya\n",
    "Div:G\n",
    "Batch: G3\n",
    "Write a Pandas program to create a plot of Open, High, Low, Close, Adjusted Closing prices and Volume of \n",
    "given company between two specific dates.\n",
    "'''\n",
    "import pandas as pd\n",
    "import matplotlib.pyplot as plt\n",
    "\n",
    "# Read the CSV file into a DataFrame\n",
    "df = pd.read_csv('/kaggle/input/nifty50-stock-market-data/ICICIBANK.csv')\n",
    "\n",
    "# Limit the DataFrame to the first 130 rows\n",
    "limited_df = df.iloc[:12]\n",
    "\n",
    "# Create a date range with the desired start date and frequency\n",
    "date_range = pd.date_range(\"2000-03-07\", periods=len(limited_df), freq=\"D\")\n",
    "\n",
    "# Set the date range as the index of the limited DataFrame\n",
    "limited_df.set_index(date_range, inplace=True)\n",
    "\n",
    "# Define colors for candlesticks\n",
    "col1 = 'green'  # When the stock prices have increased\n",
    "col2 = 'red'    # When the stock prices have decreased\n",
    "\n",
    "# Define width for candlestick elements\n",
    "width = .3\n",
    "width2 =.03\n",
    "# Create separate DataFrames for \"up\" (increasing) and \"down\" (decreasing) prices\n",
    "up = limited_df[limited_df['Close'] > limited_df['Open']]\n",
    "down = limited_df[limited_df['Open'] > limited_df['Close']]\n",
    "\n",
    "# Plotting up prices of the stock\n",
    "plt.bar(up.index, up['Close'] - up['Open'], width, bottom=up['Open'], color=col1)\n",
    "plt.bar(up.index, up['High'] - up['Close'], width2, bottom=up['Close'], color=col1)\n",
    "plt.bar(up.index, up['Low'] - up['Open'], width2, bottom=up['Open'], color=col1)\n",
    "\n",
    "# Plotting down prices of the stock\n",
    "plt.bar(down.index, down['Open'] - down['Close'], width, bottom=down['Close'], color=col2)\n",
    "plt.bar(down.index, down['Open'] - down['High'], width2, bottom=down['High'], color=col2)\n",
    "plt.bar(down.index, down['Open'] - down['Low'], width2, bottom=down['Low'], color=col2)\n",
    "\n",
    "# Rotating the x-axis tick labels at 30 degrees towards right\n",
    "plt.xticks(rotation=30, ha='right')\n",
    "\n",
    "# Displaying the candlestick chart of stock data\n",
    "plt.show()\n"
   ]
  }
 ],
 "metadata": {
  "kernelspec": {
   "display_name": "Python 3",
   "language": "python",
   "name": "python3"
  },
  "language_info": {
   "codemirror_mode": {
    "name": "ipython",
    "version": 3
   },
   "file_extension": ".py",
   "mimetype": "text/x-python",
   "name": "python",
   "nbconvert_exporter": "python",
   "pygments_lexer": "ipython3",
   "version": "3.10.12"
  },
  "papermill": {
   "default_parameters": {},
   "duration": 4.501397,
   "end_time": "2023-10-19T12:39:08.456565",
   "environment_variables": {},
   "exception": null,
   "input_path": "__notebook__.ipynb",
   "output_path": "__notebook__.ipynb",
   "parameters": {},
   "start_time": "2023-10-19T12:39:03.955168",
   "version": "2.4.0"
  }
 },
 "nbformat": 4,
 "nbformat_minor": 5
}
