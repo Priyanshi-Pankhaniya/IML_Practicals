{
 "cells": [
  {
   "cell_type": "code",
   "execution_count": 1,
   "id": "d8a64b63",
   "metadata": {
    "_cell_guid": "b1076dfc-b9ad-4769-8c92-a6c4dae69d19",
    "_uuid": "8f2839f25d086af736a60e9eeb907d3b93b6e0e5",
    "execution": {
     "iopub.execute_input": "2023-11-06T06:24:25.427839Z",
     "iopub.status.busy": "2023-11-06T06:24:25.427202Z",
     "iopub.status.idle": "2023-11-06T06:24:27.178406Z",
     "shell.execute_reply": "2023-11-06T06:24:27.177383Z"
    },
    "papermill": {
     "duration": 1.759285,
     "end_time": "2023-11-06T06:24:27.180880",
     "exception": false,
     "start_time": "2023-11-06T06:24:25.421595",
     "status": "completed"
    },
    "tags": []
   },
   "outputs": [
    {
     "name": "stdout",
     "output_type": "stream",
     "text": [
      "<class 'pandas.core.frame.DataFrame'>\n",
      "RangeIndex: 303 entries, 0 to 302\n",
      "Data columns (total 14 columns):\n",
      " #   Column    Non-Null Count  Dtype  \n",
      "---  ------    --------------  -----  \n",
      " 0   age       303 non-null    int64  \n",
      " 1   sex       303 non-null    int64  \n",
      " 2   cp        303 non-null    int64  \n",
      " 3   trestbps  303 non-null    int64  \n",
      " 4   chol      303 non-null    int64  \n",
      " 5   fbs       303 non-null    int64  \n",
      " 6   restecg   303 non-null    int64  \n",
      " 7   thalach   303 non-null    int64  \n",
      " 8   exang     303 non-null    int64  \n",
      " 9   oldpeak   303 non-null    float64\n",
      " 10  slope     303 non-null    int64  \n",
      " 11  ca        303 non-null    int64  \n",
      " 12  thal      303 non-null    int64  \n",
      " 13  target    303 non-null    int64  \n",
      "dtypes: float64(1), int64(13)\n",
      "memory usage: 33.3 KB\n"
     ]
    }
   ],
   "source": [
    "'''\n",
    "Heart Failure Prediction Using KNN(K-Nearest Neighbour)\n",
    "Group Members:\n",
    "Priyanshi Pankhaniya(216270307066)\n",
    "Honey Modha(216270307065)\n",
    "Sanjana Gohel(216270307093)\n",
    "'''\n",
    "\n",
    "'''\n",
    "We have the following values present in the dataset -\n",
    "\n",
    "1) age\n",
    "\n",
    "2) sex: sex (1 = male; 0 = female)\n",
    "\n",
    "3) chest pain type (4 values)\n",
    "\n",
    "4) resting blood pressure\n",
    "\n",
    "5) serum cholestoral in mg/dl\n",
    "\n",
    "6) fasting blood sugar > 120 mg/dl\n",
    "\n",
    "7) resting electrocardiographic results (values 0,1,2)\n",
    "\n",
    "8) maximum heart rate achieved\n",
    "\n",
    "9) exercise induced angina\n",
    "\n",
    "10) oldpeak = ST depression induced by exercise relative to rest\n",
    "\n",
    "11) the slope of the peak exercise ST segment\n",
    "\n",
    "12) number of major vessels (0-3) colored by flourosopy\n",
    "\n",
    "13) thal: 0 = normal; 1 = fixed defect; 2 = reversable defect\n",
    "\n",
    "14) target: 0= less chance of heart attack 1= more chance of heart attack\n",
    "'''\n",
    "\n",
    "#Importing the Libraries\n",
    "import numpy as np\n",
    "import pandas as pd\n",
    "\n",
    "#For Model Selection\n",
    "from sklearn.model_selection import train_test_split\n",
    "\n",
    "#Importing the KNN Algorithm\n",
    "from sklearn.neighbors import KNeighborsClassifier\n",
    "from sklearn import preprocessing,neighbors\n",
    "from sklearn.metrics import accuracy_score, classification_report\n",
    "import matplotlib.pyplot as plt\n",
    "\n",
    "# Loading the dataset\n",
    "data = pd.read_csv('/kaggle/input/health-care-data-set-on-heart-attack-possibility/heart.csv');\n",
    "data.info()\n",
    "\n",
    "\n"
   ]
  },
  {
   "cell_type": "code",
   "execution_count": 2,
   "id": "53145968",
   "metadata": {
    "execution": {
     "iopub.execute_input": "2023-11-06T06:24:27.191631Z",
     "iopub.status.busy": "2023-11-06T06:24:27.191079Z",
     "iopub.status.idle": "2023-11-06T06:24:27.209557Z",
     "shell.execute_reply": "2023-11-06T06:24:27.208845Z"
    },
    "papermill": {
     "duration": 0.025104,
     "end_time": "2023-11-06T06:24:27.211467",
     "exception": false,
     "start_time": "2023-11-06T06:24:27.186363",
     "status": "completed"
    },
    "tags": []
   },
   "outputs": [
    {
     "data": {
      "text/html": [
       "<div>\n",
       "<style scoped>\n",
       "    .dataframe tbody tr th:only-of-type {\n",
       "        vertical-align: middle;\n",
       "    }\n",
       "\n",
       "    .dataframe tbody tr th {\n",
       "        vertical-align: top;\n",
       "    }\n",
       "\n",
       "    .dataframe thead th {\n",
       "        text-align: right;\n",
       "    }\n",
       "</style>\n",
       "<table border=\"1\" class=\"dataframe\">\n",
       "  <thead>\n",
       "    <tr style=\"text-align: right;\">\n",
       "      <th></th>\n",
       "      <th>age</th>\n",
       "      <th>sex</th>\n",
       "      <th>cp</th>\n",
       "      <th>trestbps</th>\n",
       "      <th>chol</th>\n",
       "      <th>fbs</th>\n",
       "      <th>restecg</th>\n",
       "      <th>thalach</th>\n",
       "      <th>exang</th>\n",
       "      <th>oldpeak</th>\n",
       "      <th>slope</th>\n",
       "      <th>ca</th>\n",
       "      <th>thal</th>\n",
       "      <th>target</th>\n",
       "    </tr>\n",
       "  </thead>\n",
       "  <tbody>\n",
       "    <tr>\n",
       "      <th>0</th>\n",
       "      <td>63</td>\n",
       "      <td>1</td>\n",
       "      <td>3</td>\n",
       "      <td>145</td>\n",
       "      <td>233</td>\n",
       "      <td>1</td>\n",
       "      <td>0</td>\n",
       "      <td>150</td>\n",
       "      <td>0</td>\n",
       "      <td>2.3</td>\n",
       "      <td>0</td>\n",
       "      <td>0</td>\n",
       "      <td>1</td>\n",
       "      <td>1</td>\n",
       "    </tr>\n",
       "    <tr>\n",
       "      <th>1</th>\n",
       "      <td>37</td>\n",
       "      <td>1</td>\n",
       "      <td>2</td>\n",
       "      <td>130</td>\n",
       "      <td>250</td>\n",
       "      <td>0</td>\n",
       "      <td>1</td>\n",
       "      <td>187</td>\n",
       "      <td>0</td>\n",
       "      <td>3.5</td>\n",
       "      <td>0</td>\n",
       "      <td>0</td>\n",
       "      <td>2</td>\n",
       "      <td>1</td>\n",
       "    </tr>\n",
       "    <tr>\n",
       "      <th>2</th>\n",
       "      <td>41</td>\n",
       "      <td>0</td>\n",
       "      <td>1</td>\n",
       "      <td>130</td>\n",
       "      <td>204</td>\n",
       "      <td>0</td>\n",
       "      <td>0</td>\n",
       "      <td>172</td>\n",
       "      <td>0</td>\n",
       "      <td>1.4</td>\n",
       "      <td>2</td>\n",
       "      <td>0</td>\n",
       "      <td>2</td>\n",
       "      <td>1</td>\n",
       "    </tr>\n",
       "    <tr>\n",
       "      <th>3</th>\n",
       "      <td>56</td>\n",
       "      <td>1</td>\n",
       "      <td>1</td>\n",
       "      <td>120</td>\n",
       "      <td>236</td>\n",
       "      <td>0</td>\n",
       "      <td>1</td>\n",
       "      <td>178</td>\n",
       "      <td>0</td>\n",
       "      <td>0.8</td>\n",
       "      <td>2</td>\n",
       "      <td>0</td>\n",
       "      <td>2</td>\n",
       "      <td>1</td>\n",
       "    </tr>\n",
       "    <tr>\n",
       "      <th>4</th>\n",
       "      <td>57</td>\n",
       "      <td>0</td>\n",
       "      <td>0</td>\n",
       "      <td>120</td>\n",
       "      <td>354</td>\n",
       "      <td>0</td>\n",
       "      <td>1</td>\n",
       "      <td>163</td>\n",
       "      <td>1</td>\n",
       "      <td>0.6</td>\n",
       "      <td>2</td>\n",
       "      <td>0</td>\n",
       "      <td>2</td>\n",
       "      <td>1</td>\n",
       "    </tr>\n",
       "  </tbody>\n",
       "</table>\n",
       "</div>"
      ],
      "text/plain": [
       "   age  sex  cp  trestbps  chol  fbs  restecg  thalach  exang  oldpeak  slope  \\\n",
       "0   63    1   3       145   233    1        0      150      0      2.3      0   \n",
       "1   37    1   2       130   250    0        1      187      0      3.5      0   \n",
       "2   41    0   1       130   204    0        0      172      0      1.4      2   \n",
       "3   56    1   1       120   236    0        1      178      0      0.8      2   \n",
       "4   57    0   0       120   354    0        1      163      1      0.6      2   \n",
       "\n",
       "   ca  thal  target  \n",
       "0   0     1       1  \n",
       "1   0     2       1  \n",
       "2   0     2       1  \n",
       "3   0     2       1  \n",
       "4   0     2       1  "
      ]
     },
     "execution_count": 2,
     "metadata": {},
     "output_type": "execute_result"
    }
   ],
   "source": [
    "# Displaying the first few rows\n",
    "data.head()"
   ]
  },
  {
   "cell_type": "code",
   "execution_count": 3,
   "id": "d824bc3a",
   "metadata": {
    "execution": {
     "iopub.execute_input": "2023-11-06T06:24:27.220963Z",
     "iopub.status.busy": "2023-11-06T06:24:27.220085Z",
     "iopub.status.idle": "2023-11-06T06:24:27.531842Z",
     "shell.execute_reply": "2023-11-06T06:24:27.530774Z"
    },
    "papermill": {
     "duration": 0.318876,
     "end_time": "2023-11-06T06:24:27.534109",
     "exception": false,
     "start_time": "2023-11-06T06:24:27.215233",
     "status": "completed"
    },
    "tags": []
   },
   "outputs": [
    {
     "data": {
      "text/plain": [
       "<Axes: >"
      ]
     },
     "execution_count": 3,
     "metadata": {},
     "output_type": "execute_result"
    },
    {
     "data": {
      "image/png": "[encoded data removed]",
      "text/plain": [
       "<Figure size 640x480 with 1 Axes>"
      ]
     },
     "metadata": {},
     "output_type": "display_data"
    }
   ],
   "source": [
    "#Implementing the HistoGram\n",
    "data[\"target\"].hist()"
   ]
  },
  {
   "cell_type": "code",
   "execution_count": 4,
   "id": "a351882a",
   "metadata": {
    "execution": {
     "iopub.execute_input": "2023-11-06T06:24:27.544641Z",
     "iopub.status.busy": "2023-11-06T06:24:27.544009Z",
     "iopub.status.idle": "2023-11-06T06:24:27.952282Z",
     "shell.execute_reply": "2023-11-06T06:24:27.951254Z"
    },
    "papermill": {
     "duration": 0.416354,
     "end_time": "2023-11-06T06:24:27.954778",
     "exception": false,
     "start_time": "2023-11-06T06:24:27.538424",
     "status": "completed"
    },
    "tags": []
   },
   "outputs": [],
   "source": [
    "#Importing the Seaborn \n",
    "import seaborn as sns"
   ]
  },
  {
   "cell_type": "code",
   "execution_count": 5,
   "id": "4e08e02f",
   "metadata": {
    "execution": {
     "iopub.execute_input": "2023-11-06T06:24:27.964676Z",
     "iopub.status.busy": "2023-11-06T06:24:27.964329Z",
     "iopub.status.idle": "2023-11-06T06:24:28.171780Z",
     "shell.execute_reply": "2023-11-06T06:24:28.170778Z"
    },
    "papermill": {
     "duration": 0.214929,
     "end_time": "2023-11-06T06:24:28.174041",
     "exception": false,
     "start_time": "2023-11-06T06:24:27.959112",
     "status": "completed"
    },
    "tags": []
   },
   "outputs": [
    {
     "data": {
      "text/plain": [
       "<Axes: xlabel='target', ylabel='age'>"
      ]
     },
     "execution_count": 5,
     "metadata": {},
     "output_type": "execute_result"
    },
    {
     "data": {
      "image/png": "[encoded data removed]",
      "text/plain": [
       "<Figure size 640x480 with 1 Axes>"
      ]
     },
     "metadata": {},
     "output_type": "display_data"
    }
   ],
   "source": [
    "#Implementing the Box plot of the Age and the Target\n",
    "sns.boxplot(data=data, y=\"age\",x=\"target\")"
   ]
  },
  {
   "cell_type": "code",
   "execution_count": 6,
   "id": "e8f63f85",
   "metadata": {
    "execution": {
     "iopub.execute_input": "2023-11-06T06:24:28.185163Z",
     "iopub.status.busy": "2023-11-06T06:24:28.184582Z",
     "iopub.status.idle": "2023-11-06T06:24:28.193147Z",
     "shell.execute_reply": "2023-11-06T06:24:28.192073Z"
    },
    "papermill": {
     "duration": 0.01666,
     "end_time": "2023-11-06T06:24:28.195224",
     "exception": false,
     "start_time": "2023-11-06T06:24:28.178564",
     "status": "completed"
    },
    "tags": []
   },
   "outputs": [
    {
     "data": {
      "text/plain": [
       "sex\n",
       "1    207\n",
       "0     96\n",
       "Name: count, dtype: int64"
      ]
     },
     "execution_count": 6,
     "metadata": {},
     "output_type": "execute_result"
    }
   ],
   "source": [
    "data[\"sex\"].value_counts()#Disease is present in male population more than females"
   ]
  },
  {
   "cell_type": "code",
   "execution_count": 7,
   "id": "1809ee87",
   "metadata": {
    "execution": {
     "iopub.execute_input": "2023-11-06T06:24:28.206578Z",
     "iopub.status.busy": "2023-11-06T06:24:28.205916Z",
     "iopub.status.idle": "2023-11-06T06:24:28.479485Z",
     "shell.execute_reply": "2023-11-06T06:24:28.478469Z"
    },
    "papermill": {
     "duration": 0.282036,
     "end_time": "2023-11-06T06:24:28.482039",
     "exception": false,
     "start_time": "2023-11-06T06:24:28.200003",
     "status": "completed"
    },
    "tags": []
   },
   "outputs": [],
   "source": [
    "# Separating the features and the target\n",
    "X=data.drop(\"target\", axis=1)\n",
    "\n",
    "# Standardize the features by scaling them to have mean=0 and variance=1\n",
    "X=preprocessing.scale(X)\n",
    "\n",
    "# Defining the target variable\n",
    "y=data['target']\n",
    "\n",
    "# Spliting the data into training set and testing set\n",
    "X_train, X_test, y_train, y_test = train_test_split(X, y, test_size=0.2)\n",
    "\n",
    "\n",
    "error = []\n",
    "for i in range(1,40):\n",
    "    knn = KNeighborsClassifier(n_neighbors=i)# Creating a K-Nearest Neighbors (KNN) classifier\n",
    "    knn.fit(X_train, y_train)# Fit the classifier to the training data\n",
    "    pred = knn.predict(X_test)# Making predictions on the test data using predict function\n",
    "    error.append(np.sum(y_test - pred))\n"
   ]
  },
  {
   "cell_type": "code",
   "execution_count": 8,
   "id": "446780f7",
   "metadata": {
    "execution": {
     "iopub.execute_input": "2023-11-06T06:24:28.493368Z",
     "iopub.status.busy": "2023-11-06T06:24:28.493000Z",
     "iopub.status.idle": "2023-11-06T06:24:28.760889Z",
     "shell.execute_reply": "2023-11-06T06:24:28.759880Z"
    },
    "papermill": {
     "duration": 0.276373,
     "end_time": "2023-11-06T06:24:28.763170",
     "exception": false,
     "start_time": "2023-11-06T06:24:28.486797",
     "status": "completed"
    },
    "tags": []
   },
   "outputs": [
    {
     "data": {
      "text/plain": [
       "<Axes: >"
      ]
     },
     "execution_count": 8,
     "metadata": {},
     "output_type": "execute_result"
    },
    {
     "data": {
      "image/png": "[encoded data removed]",
      "text/plain": [
       "<Figure size 640x480 with 1 Axes>"
      ]
     },
     "metadata": {},
     "output_type": "display_data"
    }
   ],
   "source": [
    "sns.lineplot(x = range(1, 40), y = error, marker = \"o\", color = \"blue\", markerfacecolor= \"red\")"
   ]
  },
  {
   "cell_type": "code",
   "execution_count": 9,
   "id": "d9dd0827",
   "metadata": {
    "execution": {
     "iopub.execute_input": "2023-11-06T06:24:28.775213Z",
     "iopub.status.busy": "2023-11-06T06:24:28.774779Z",
     "iopub.status.idle": "2023-11-06T06:24:28.794914Z",
     "shell.execute_reply": "2023-11-06T06:24:28.793591Z"
    },
    "papermill": {
     "duration": 0.028982,
     "end_time": "2023-11-06T06:24:28.797344",
     "exception": false,
     "start_time": "2023-11-06T06:24:28.768362",
     "status": "completed"
    },
    "tags": []
   },
   "outputs": [
    {
     "name": "stdout",
     "output_type": "stream",
     "text": [
      "              precision    recall  f1-score   support\n",
      "\n",
      "           0       0.90      0.72      0.80        25\n",
      "           1       0.83      0.94      0.88        36\n",
      "\n",
      "    accuracy                           0.85        61\n",
      "   macro avg       0.86      0.83      0.84        61\n",
      "weighted avg       0.86      0.85      0.85        61\n",
      "\n"
     ]
    }
   ],
   "source": [
    "#Taking neighbors as 19\n",
    "knn = KNeighborsClassifier(n_neighbors=19)\n",
    "knn.fit(X_train, y_train)\n",
    "pred = knn.predict(X_test)\n",
    "print(classification_report(y_test, pred))"
   ]
  },
  {
   "cell_type": "code",
   "execution_count": 10,
   "id": "b06422b0",
   "metadata": {
    "execution": {
     "iopub.execute_input": "2023-11-06T06:24:28.809952Z",
     "iopub.status.busy": "2023-11-06T06:24:28.809250Z",
     "iopub.status.idle": "2023-11-06T06:24:28.828035Z",
     "shell.execute_reply": "2023-11-06T06:24:28.826743Z"
    },
    "papermill": {
     "duration": 0.027702,
     "end_time": "2023-11-06T06:24:28.830432",
     "exception": false,
     "start_time": "2023-11-06T06:24:28.802730",
     "status": "completed"
    },
    "tags": []
   },
   "outputs": [
    {
     "name": "stdout",
     "output_type": "stream",
     "text": [
      "              precision    recall  f1-score   support\n",
      "\n",
      "           0       0.90      0.72      0.80        25\n",
      "           1       0.83      0.94      0.88        36\n",
      "\n",
      "    accuracy                           0.85        61\n",
      "   macro avg       0.86      0.83      0.84        61\n",
      "weighted avg       0.86      0.85      0.85        61\n",
      "\n"
     ]
    }
   ],
   "source": [
    "#Neighbours=29\n",
    "knn = KNeighborsClassifier(n_neighbors=29)\n",
    "knn.fit(X_train, y_train)\n",
    "pred = knn.predict(X_test)\t\n",
    "print(classification_report(y_test, pred))\n"
   ]
  },
  {
   "cell_type": "code",
   "execution_count": 11,
   "id": "a8379baa",
   "metadata": {
    "execution": {
     "iopub.execute_input": "2023-11-06T06:24:28.843000Z",
     "iopub.status.busy": "2023-11-06T06:24:28.842292Z",
     "iopub.status.idle": "2023-11-06T06:24:28.857594Z",
     "shell.execute_reply": "2023-11-06T06:24:28.856779Z"
    },
    "papermill": {
     "duration": 0.023804,
     "end_time": "2023-11-06T06:24:28.859649",
     "exception": false,
     "start_time": "2023-11-06T06:24:28.835845",
     "status": "completed"
    },
    "tags": []
   },
   "outputs": [
    {
     "name": "stdout",
     "output_type": "stream",
     "text": [
      "Accuracy: 0.8032786885245902\n"
     ]
    }
   ],
   "source": [
    "clf=KNeighborsClassifier()\n",
    "clf.fit(X_train,y_train)\n",
    "accuracy=clf.score(X_test,y_test)\n",
    "print(\"Accuracy:\",accuracy)#Priting the Accuracy"
   ]
  },
  {
   "cell_type": "code",
   "execution_count": null,
   "id": "1d38233a",
   "metadata": {
    "papermill": {
     "duration": 0.005193,
     "end_time": "2023-11-06T06:24:28.870305",
     "exception": false,
     "start_time": "2023-11-06T06:24:28.865112",
     "status": "completed"
    },
    "tags": []
   },
   "outputs": [],
   "source": []
  }
 ],
 "metadata": {
  "kernelspec": {
   "display_name": "Python 3",
   "language": "python",
   "name": "python3"
  },
  "language_info": {
   "codemirror_mode": {
    "name": "ipython",
    "version": 3
   },
   "file_extension": ".py",
   "mimetype": "text/x-python",
   "name": "python",
   "nbconvert_exporter": "python",
   "pygments_lexer": "ipython3",
   "version": "3.10.12"
  },
  "papermill": {
   "default_parameters": {},
   "duration": 7.224236,
   "end_time": "2023-11-06T06:24:29.496250",
   "environment_variables": {},
   "exception": null,
   "input_path": "__notebook__.ipynb",
   "output_path": "__notebook__.ipynb",
   "parameters": {},
   "start_time": "2023-11-06T06:24:22.272014",
   "version": "2.4.0"
  }
 },
 "nbformat": 4,
 "nbformat_minor": 5
}
