{
 "cells": [
  {
   "cell_type": "code",
   "execution_count": 1,
   "id": "301f2e4a",
   "metadata": {
    "execution": {
     "iopub.execute_input": "2023-10-19T12:25:00.873119Z",
     "iopub.status.busy": "2023-10-19T12:25:00.872164Z",
     "iopub.status.idle": "2023-10-19T12:25:01.229637Z",
     "shell.execute_reply": "2023-10-19T12:25:01.228818Z"
    },
    "papermill": {
     "duration": 0.364798,
     "end_time": "2023-10-19T12:25:01.232615",
     "exception": false,
     "start_time": "2023-10-19T12:25:00.867817",
     "status": "completed"
    },
    "tags": []
   },
   "outputs": [
    {
     "name": "stdout",
     "output_type": "stream",
     "text": [
      "a    23\n",
      "b    45\n",
      "c    56\n",
      "d    67\n",
      "e    12\n",
      "dtype: int64\n"
     ]
    }
   ],
   "source": [
    "'''\n",
    "Name:Priyanshi Pankhaniya\n",
    "Enroll no.:216270307066\n",
    "Div: G\n",
    "Batch: G3\n",
    "'''\n",
    "'''\n",
    "Write a Pandas program to implement following operation\n",
    "A. to convert a NumPy array to a Pandas series\n",
    "'''\n",
    "\n",
    "#Importing Pandas\n",
    "import pandas as pd\n",
    "\n",
    "#Creating Series\n",
    "a=pd.Series([23,45,56,67,12],index=['a','b','c','d','e']);\n",
    "\n",
    "#Printing the Series\n",
    "print(a);\n",
    "          \n"
   ]
  },
  {
   "cell_type": "code",
   "execution_count": 2,
   "id": "c7eaa7f5",
   "metadata": {
    "execution": {
     "iopub.execute_input": "2023-10-19T12:25:01.239902Z",
     "iopub.status.busy": "2023-10-19T12:25:01.239507Z",
     "iopub.status.idle": "2023-10-19T12:25:01.253459Z",
     "shell.execute_reply": "2023-10-19T12:25:01.252439Z"
    },
    "papermill": {
     "duration": 0.018795,
     "end_time": "2023-10-19T12:25:01.255344",
     "exception": false,
     "start_time": "2023-10-19T12:25:01.236549",
     "status": "completed"
    },
    "tags": []
   },
   "outputs": [
    {
     "name": "stdout",
     "output_type": "stream",
     "text": [
      "Original DataFrame\n",
      "   col1  col2  col3\n",
      "0     1     4     7\n",
      "1     2     5     5\n",
      "2     3     6     8\n",
      "3     4     9    12\n",
      "4     7     5     1\n",
      "5    11     0    11\n",
      "\n",
      "1st column as a Series:\n",
      "0     1\n",
      "1     2\n",
      "2     3\n",
      "3     4\n",
      "4     7\n",
      "5    11\n",
      "Name: col1, dtype: int64\n"
     ]
    }
   ],
   "source": [
    "'''\n",
    "B. to convert the first column of a DataFrame as a Series\n",
    "'''\n",
    "\n",
    "#Importing Pandas \n",
    "import pandas as pd\n",
    "\n",
    "#Creating the dictionary\n",
    "d = {'col1': [1, 2, 3, 4, 7, 11], 'col2': [4, 5, 6, 9, 5, 0], 'col3': [7, 5, 8, 12, 1,11]}\n",
    "\n",
    "#Creating Dataframe\n",
    "df = pd.DataFrame(d)\n",
    "\n",
    "#Printing the Original Dataframe\n",
    "print(\"Original DataFrame\")\n",
    "print(df)\n",
    "\n",
    "#Converting the first column to series\n",
    "s1 = df.iloc[:,0]\n",
    "\n",
    "#Printing the New Dataframe\n",
    "print(\"\\n1st column as a Series:\")\n",
    "print(s1)\n",
    "\n",
    "\n"
   ]
  },
  {
   "cell_type": "code",
   "execution_count": 3,
   "id": "ba43aee0",
   "metadata": {
    "execution": {
     "iopub.execute_input": "2023-10-19T12:25:01.261180Z",
     "iopub.status.busy": "2023-10-19T12:25:01.260383Z",
     "iopub.status.idle": "2023-10-19T12:25:01.269177Z",
     "shell.execute_reply": "2023-10-19T12:25:01.268326Z"
    },
    "papermill": {
     "duration": 0.013676,
     "end_time": "2023-10-19T12:25:01.271121",
     "exception": false,
     "start_time": "2023-10-19T12:25:01.257445",
     "status": "completed"
    },
    "tags": []
   },
   "outputs": [
    {
     "name": "stdout",
     "output_type": "stream",
     "text": [
      "Mean: 3.0\n",
      "Standard Deviation: 1.5811388300841898\n"
     ]
    }
   ],
   "source": [
    "'''\n",
    "to create the mean and standard deviation of the data of a given\n",
    "Series\n",
    "'''\n",
    "import pandas as pd\n",
    "\n",
    "# Creating a sample Series\n",
    "data = [1, 2, 3, 4, 5]\n",
    "series = pd.Series(data)\n",
    "\n",
    "# Calculating the mean\n",
    "mean = series.mean()\n",
    "\n",
    "# Calculating the standard deviation\n",
    "std_deviation = series.std()\n",
    "\n",
    "print(\"Mean:\", mean)\n",
    "print(\"Standard Deviation:\", std_deviation)\n"
   ]
  },
  {
   "cell_type": "code",
   "execution_count": 4,
   "id": "ca7e8451",
   "metadata": {
    "execution": {
     "iopub.execute_input": "2023-10-19T12:25:01.276670Z",
     "iopub.status.busy": "2023-10-19T12:25:01.276069Z",
     "iopub.status.idle": "2023-10-19T12:25:01.287657Z",
     "shell.execute_reply": "2023-10-19T12:25:01.286660Z"
    },
    "papermill": {
     "duration": 0.016334,
     "end_time": "2023-10-19T12:25:01.289533",
     "exception": false,
     "start_time": "2023-10-19T12:25:01.273199",
     "status": "completed"
    },
    "tags": []
   },
   "outputs": [
    {
     "name": "stdout",
     "output_type": "stream",
     "text": [
      "Sorted Series (Ascending):\n",
      "1    1\n",
      "2    2\n",
      "0    3\n",
      "4    4\n",
      "3    5\n",
      "dtype: int64\n",
      "\n",
      "Sorted Series (Descending):\n",
      "3    5\n",
      "4    4\n",
      "0    3\n",
      "2    2\n",
      "1    1\n",
      "dtype: int64\n"
     ]
    }
   ],
   "source": [
    "'''\n",
    "to sort a given Series\n",
    "'''\n",
    "import pandas as pd\n",
    "\n",
    "# Creating a sample Series\n",
    "data = {'A': [3, 1, 2, 5, 4]}\n",
    "series = pd.Series(data['A'])\n",
    "\n",
    "# Sorting the Series in ascending order\n",
    "sorted_series = series.sort_values()\n",
    "\n",
    "print(\"Sorted Series (Ascending):\")\n",
    "print(sorted_series)\n",
    "\n",
    "# Sorting the Series in descending order\n",
    "sorted_series_desc = series.sort_values(ascending=False)\n",
    "\n",
    "print(\"\\nSorted Series (Descending):\")\n",
    "print(sorted_series_desc)\n"
   ]
  },
  {
   "cell_type": "code",
   "execution_count": null,
   "id": "8992421d",
   "metadata": {
    "papermill": {
     "duration": 0.001796,
     "end_time": "2023-10-19T12:25:01.293500",
     "exception": false,
     "start_time": "2023-10-19T12:25:01.291704",
     "status": "completed"
    },
    "tags": []
   },
   "outputs": [],
   "source": []
  }
 ],
 "metadata": {
  "kernelspec": {
   "display_name": "Python 3",
   "language": "python",
   "name": "python3"
  },
  "language_info": {
   "codemirror_mode": {
    "name": "ipython",
    "version": 3
   },
   "file_extension": ".py",
   "mimetype": "text/x-python",
   "name": "python",
   "nbconvert_exporter": "python",
   "pygments_lexer": "ipython3",
   "version": "3.10.12"
  },
  "papermill": {
   "default_parameters": {},
   "duration": 3.823945,
   "end_time": "2023-10-19T12:25:01.714513",
   "environment_variables": {},
   "exception": null,
   "input_path": "__notebook__.ipynb",
   "output_path": "__notebook__.ipynb",
   "parameters": {},
   "start_time": "2023-10-19T12:24:57.890568",
   "version": "2.4.0"
  }
 },
 "nbformat": 4,
 "nbformat_minor": 5
}
